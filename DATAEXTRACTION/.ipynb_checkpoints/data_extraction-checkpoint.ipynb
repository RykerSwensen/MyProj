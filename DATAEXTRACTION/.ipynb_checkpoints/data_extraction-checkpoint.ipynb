{
 "cells": [
  {
   "cell_type": "markdown",
   "id": "ce915ea6-f0e0-40de-8dd4-797388deb15f",
   "metadata": {},
   "source": [
    "This is pulling cyrptocurrencies prices from a public API and downloading them as excel files. To do this, we need to import requests to pull data and pandas to process it."
   ]
  },
  {
   "cell_type": "markdown",
   "id": "e5acb843-644a-48eb-af0d-9618ba579bea",
   "metadata": {},
   "source": [
    "We are pulling from crypto watch, they provide free keys and access to use their API's. If you make an account, you have access to use their API's. In terrms of free API's, this is one of the best when it comes to Crypto/Finance. "
   ]
  },
  {
   "cell_type": "code",
   "execution_count": 4,
   "id": "76ee2255-bf1b-4f09-9761-204e64dfc5f9",
   "metadata": {
    "tags": []
   },
   "outputs": [],
   "source": [
    "import requests\n",
    "import pandas as pd"
   ]
  },
  {
   "cell_type": "code",
   "execution_count": 9,
   "id": "88f7676b-a68f-44d4-865a-c121f1af9ae9",
   "metadata": {
    "tags": []
   },
   "outputs": [],
   "source": [
    "def get_historic_price(symbol, exchange='bitfinex', after='2018-09-01'):\n",
    "    url = 'https://api.cryptowat.ch/markets/{exchange}/{symbol}usd/ohlc'.format(\n",
    "        symbol=symbol, exchange=exchange)\n",
    "    resp = requests.get(url, params={\n",
    "        'periods': '3600',\n",
    "        'after': str(int(pd.Timestamp(after).timestamp()))\n",
    "    })\n",
    "    resp.raise_for_status()\n",
    "    data = resp.json()\n",
    "    df = pd.DataFrame(data['result']['3600'], columns=[\n",
    "        'CloseTime', 'OpenPrice', 'HighPrice', 'LowPrice', 'ClosePrice', 'Volume', 'NA'\n",
    "    ])\n",
    "    df['CloseTime'] = pd.to_datetime(df['CloseTime'], unit='s')\n",
    "    df.set_index('CloseTime', inplace=True)\n",
    "    return df"
   ]
  },
  {
   "cell_type": "code",
   "execution_count": 10,
   "id": "061fc090-409f-4b59-98a6-ade54f654cb9",
   "metadata": {
    "tags": []
   },
   "outputs": [
    {
     "data": {
      "text/plain": [
       "Timestamp('2023-02-11 12:19:52.546659')"
      ]
     },
     "execution_count": 10,
     "metadata": {},
     "output_type": "execute_result"
    }
   ],
   "source": [
    "last_week = (pd.Timestamp.now() - pd.offsets.Day(7))\n",
    "last_week"
   ]
  },
  {
   "cell_type": "code",
   "execution_count": 11,
   "id": "0079ddfb-8d8c-4832-a5d3-40400f11b677",
   "metadata": {
    "tags": []
   },
   "outputs": [],
   "source": [
    "btc = get_historic_price('btc', 'bitstamp', after=last_week)"
   ]
  },
  {
   "cell_type": "code",
   "execution_count": 12,
   "id": "a39f32a5-2559-4291-8e9a-4524489573e9",
   "metadata": {
    "tags": []
   },
   "outputs": [],
   "source": [
    "eth = get_historic_price('eth', 'bitstamp', after=last_week)"
   ]
  },
  {
   "cell_type": "code",
   "execution_count": null,
   "id": "fa392ca3-3ab2-478c-93a7-a8be50cb1fe8",
   "metadata": {},
   "outputs": [],
   "source": []
  }
 ],
 "metadata": {
  "kernelspec": {
   "display_name": "Python 3 (ipykernel)",
   "language": "python",
   "name": "python3"
  },
  "language_info": {
   "codemirror_mode": {
    "name": "ipython",
    "version": 3
   },
   "file_extension": ".py",
   "mimetype": "text/x-python",
   "name": "python",
   "nbconvert_exporter": "python",
   "pygments_lexer": "ipython3",
   "version": "3.11.1"
  }
 },
 "nbformat": 4,
 "nbformat_minor": 5
}
