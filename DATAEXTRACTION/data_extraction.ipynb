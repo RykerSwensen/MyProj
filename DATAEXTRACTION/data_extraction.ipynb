{
 "cells": [
  {
   "cell_type": "markdown",
   "id": "ce915ea6-f0e0-40de-8dd4-797388deb15f",
   "metadata": {},
   "source": [
    "This is pulling cyrptocurrencies prices from a public API and downloading them as excel files. To do this, we need to import requests to pull data and pandas to process it."
   ]
  },
  {
   "cell_type": "markdown",
   "id": "e5acb843-644a-48eb-af0d-9618ba579bea",
   "metadata": {},
   "source": [
    "We are pulling from crypto watch, they provide free keys and access to use their API's. If you make an account, you have access to use their API's. In terrms of free API's, this is one of the best when it comes to Crypto/Finance. "
   ]
  },
  {
   "cell_type": "code",
   "execution_count": 20,
   "id": "76ee2255-bf1b-4f09-9761-204e64dfc5f9",
   "metadata": {
    "tags": []
   },
   "outputs": [],
   "source": [
    "import requests\n",
    "import pandas as pd"
   ]
  },
  {
   "cell_type": "code",
   "execution_count": 21,
   "id": "88f7676b-a68f-44d4-865a-c121f1af9ae9",
   "metadata": {
    "tags": []
   },
   "outputs": [],
   "source": [
    "def get_historic_price(symbol, exchange='bitfinex', after='2018-09-01'):\n",
    "    url = 'https://api.cryptowat.ch/markets/{exchange}/{symbol}usd/ohlc'.format(\n",
    "        symbol=symbol, exchange=exchange)\n",
    "    resp = requests.get(url, params={\n",
    "        'periods': '3600',\n",
    "        'after': str(int(pd.Timestamp(after).timestamp()))\n",
    "    })\n",
    "    resp.raise_for_status()\n",
    "    data = resp.json()\n",
    "    df = pd.DataFrame(data['result']['3600'], columns=[\n",
    "        'CloseTime', 'OpenPrice', 'HighPrice', 'LowPrice', 'ClosePrice', 'Volume', 'NA'\n",
    "    ])\n",
    "    df['CloseTime'] = pd.to_datetime(df['CloseTime'], unit='s')\n",
    "    df.set_index('CloseTime', inplace=True)\n",
    "    return df"
   ]
  },
  {
   "cell_type": "code",
   "execution_count": 22,
   "id": "061fc090-409f-4b59-98a6-ade54f654cb9",
   "metadata": {
    "tags": []
   },
   "outputs": [
    {
     "data": {
      "text/plain": [
       "Timestamp('2023-02-11 12:32:01.591286')"
      ]
     },
     "execution_count": 22,
     "metadata": {},
     "output_type": "execute_result"
    }
   ],
   "source": [
    "last_week = (pd.Timestamp.now() - pd.offsets.Day(7))\n",
    "last_week"
   ]
  },
  {
   "cell_type": "code",
   "execution_count": 23,
   "id": "0079ddfb-8d8c-4832-a5d3-40400f11b677",
   "metadata": {
    "tags": []
   },
   "outputs": [],
   "source": [
    "btc = get_historic_price('btc', 'bitstamp', after=last_week)"
   ]
  },
  {
   "cell_type": "code",
   "execution_count": 24,
   "id": "a39f32a5-2559-4291-8e9a-4524489573e9",
   "metadata": {
    "tags": []
   },
   "outputs": [],
   "source": [
    "eth = get_historic_price('eth', 'bitstamp', after=last_week)"
   ]
  },
  {
   "cell_type": "code",
   "execution_count": 25,
   "id": "fa392ca3-3ab2-478c-93a7-a8be50cb1fe8",
   "metadata": {
    "tags": []
   },
   "outputs": [
    {
     "data": {
      "text/html": [
       "<div>\n",
       "<style scoped>\n",
       "    .dataframe tbody tr th:only-of-type {\n",
       "        vertical-align: middle;\n",
       "    }\n",
       "\n",
       "    .dataframe tbody tr th {\n",
       "        vertical-align: top;\n",
       "    }\n",
       "\n",
       "    .dataframe thead th {\n",
       "        text-align: right;\n",
       "    }\n",
       "</style>\n",
       "<table border=\"1\" class=\"dataframe\">\n",
       "  <thead>\n",
       "    <tr style=\"text-align: right;\">\n",
       "      <th></th>\n",
       "      <th>OpenPrice</th>\n",
       "      <th>HighPrice</th>\n",
       "      <th>LowPrice</th>\n",
       "      <th>ClosePrice</th>\n",
       "      <th>Volume</th>\n",
       "      <th>NA</th>\n",
       "    </tr>\n",
       "    <tr>\n",
       "      <th>CloseTime</th>\n",
       "      <th></th>\n",
       "      <th></th>\n",
       "      <th></th>\n",
       "      <th></th>\n",
       "      <th></th>\n",
       "      <th></th>\n",
       "    </tr>\n",
       "  </thead>\n",
       "  <tbody>\n",
       "    <tr>\n",
       "      <th>2023-02-11 13:00:00</th>\n",
       "      <td>21700</td>\n",
       "      <td>21764</td>\n",
       "      <td>21671</td>\n",
       "      <td>21718</td>\n",
       "      <td>28.716826</td>\n",
       "      <td>6.238168e+05</td>\n",
       "    </tr>\n",
       "    <tr>\n",
       "      <th>2023-02-11 14:00:00</th>\n",
       "      <td>21717</td>\n",
       "      <td>21839</td>\n",
       "      <td>21703</td>\n",
       "      <td>21752</td>\n",
       "      <td>196.394596</td>\n",
       "      <td>4.277293e+06</td>\n",
       "    </tr>\n",
       "    <tr>\n",
       "      <th>2023-02-11 15:00:00</th>\n",
       "      <td>21751</td>\n",
       "      <td>21760</td>\n",
       "      <td>21720</td>\n",
       "      <td>21757</td>\n",
       "      <td>11.877203</td>\n",
       "      <td>2.582534e+05</td>\n",
       "    </tr>\n",
       "    <tr>\n",
       "      <th>2023-02-11 16:00:00</th>\n",
       "      <td>21755</td>\n",
       "      <td>21763</td>\n",
       "      <td>21725</td>\n",
       "      <td>21737</td>\n",
       "      <td>10.446851</td>\n",
       "      <td>2.271511e+05</td>\n",
       "    </tr>\n",
       "    <tr>\n",
       "      <th>2023-02-11 17:00:00</th>\n",
       "      <td>21737</td>\n",
       "      <td>21739</td>\n",
       "      <td>21685</td>\n",
       "      <td>21696</td>\n",
       "      <td>17.757604</td>\n",
       "      <td>3.855642e+05</td>\n",
       "    </tr>\n",
       "  </tbody>\n",
       "</table>\n",
       "</div>"
      ],
      "text/plain": [
       "                     OpenPrice  HighPrice  LowPrice  ClosePrice      Volume  \\\n",
       "CloseTime                                                                     \n",
       "2023-02-11 13:00:00      21700      21764     21671       21718   28.716826   \n",
       "2023-02-11 14:00:00      21717      21839     21703       21752  196.394596   \n",
       "2023-02-11 15:00:00      21751      21760     21720       21757   11.877203   \n",
       "2023-02-11 16:00:00      21755      21763     21725       21737   10.446851   \n",
       "2023-02-11 17:00:00      21737      21739     21685       21696   17.757604   \n",
       "\n",
       "                               NA  \n",
       "CloseTime                          \n",
       "2023-02-11 13:00:00  6.238168e+05  \n",
       "2023-02-11 14:00:00  4.277293e+06  \n",
       "2023-02-11 15:00:00  2.582534e+05  \n",
       "2023-02-11 16:00:00  2.271511e+05  \n",
       "2023-02-11 17:00:00  3.855642e+05  "
      ]
     },
     "execution_count": 25,
     "metadata": {},
     "output_type": "execute_result"
    }
   ],
   "source": [
    "btc.head()"
   ]
  },
  {
   "cell_type": "code",
   "execution_count": 26,
   "id": "6799a2df-03a1-4df1-b25c-3a415fb06ab3",
   "metadata": {
    "tags": []
   },
   "outputs": [
    {
     "ename": "ImportError",
     "evalue": "matplotlib is required for plotting when the default backend \"matplotlib\" is selected.",
     "output_type": "error",
     "traceback": [
      "\u001b[1;31m---------------------------------------------------------------------------\u001b[0m",
      "\u001b[1;31mImportError\u001b[0m                               Traceback (most recent call last)",
      "Cell \u001b[1;32mIn[26], line 1\u001b[0m\n\u001b[1;32m----> 1\u001b[0m \u001b[43mbtc\u001b[49m\u001b[43m[\u001b[49m\u001b[38;5;124;43m'\u001b[39;49m\u001b[38;5;124;43mClosePrice\u001b[39;49m\u001b[38;5;124;43m'\u001b[39;49m\u001b[43m]\u001b[49m\u001b[38;5;241;43m.\u001b[39;49m\u001b[43mplot\u001b[49m\u001b[43m(\u001b[49m\u001b[43mfigsize\u001b[49m\u001b[38;5;241;43m=\u001b[39;49m\u001b[43m(\u001b[49m\u001b[38;5;241;43m15\u001b[39;49m\u001b[43m,\u001b[49m\u001b[43m \u001b[49m\u001b[38;5;241;43m7\u001b[39;49m\u001b[43m)\u001b[49m\u001b[43m)\u001b[49m\n",
      "File \u001b[1;32m~\\AppData\\Local\\Programs\\Python\\Python311\\Lib\\site-packages\\pandas\\plotting\\_core.py:920\u001b[0m, in \u001b[0;36mPlotAccessor.__call__\u001b[1;34m(self, *args, **kwargs)\u001b[0m\n\u001b[0;32m    919\u001b[0m \u001b[38;5;28;01mdef\u001b[39;00m \u001b[38;5;21m__call__\u001b[39m(\u001b[38;5;28mself\u001b[39m, \u001b[38;5;241m*\u001b[39margs, \u001b[38;5;241m*\u001b[39m\u001b[38;5;241m*\u001b[39mkwargs):\n\u001b[1;32m--> 920\u001b[0m     plot_backend \u001b[38;5;241m=\u001b[39m \u001b[43m_get_plot_backend\u001b[49m\u001b[43m(\u001b[49m\u001b[43mkwargs\u001b[49m\u001b[38;5;241;43m.\u001b[39;49m\u001b[43mpop\u001b[49m\u001b[43m(\u001b[49m\u001b[38;5;124;43m\"\u001b[39;49m\u001b[38;5;124;43mbackend\u001b[39;49m\u001b[38;5;124;43m\"\u001b[39;49m\u001b[43m,\u001b[49m\u001b[43m \u001b[49m\u001b[38;5;28;43;01mNone\u001b[39;49;00m\u001b[43m)\u001b[49m\u001b[43m)\u001b[49m\n\u001b[0;32m    922\u001b[0m     x, y, kind, kwargs \u001b[38;5;241m=\u001b[39m \u001b[38;5;28mself\u001b[39m\u001b[38;5;241m.\u001b[39m_get_call_args(\n\u001b[0;32m    923\u001b[0m         plot_backend\u001b[38;5;241m.\u001b[39m\u001b[38;5;18m__name__\u001b[39m, \u001b[38;5;28mself\u001b[39m\u001b[38;5;241m.\u001b[39m_parent, args, kwargs\n\u001b[0;32m    924\u001b[0m     )\n\u001b[0;32m    926\u001b[0m     kind \u001b[38;5;241m=\u001b[39m \u001b[38;5;28mself\u001b[39m\u001b[38;5;241m.\u001b[39m_kind_aliases\u001b[38;5;241m.\u001b[39mget(kind, kind)\n",
      "File \u001b[1;32m~\\AppData\\Local\\Programs\\Python\\Python311\\Lib\\site-packages\\pandas\\plotting\\_core.py:1886\u001b[0m, in \u001b[0;36m_get_plot_backend\u001b[1;34m(backend)\u001b[0m\n\u001b[0;32m   1883\u001b[0m \u001b[38;5;28;01mif\u001b[39;00m backend_str \u001b[38;5;129;01min\u001b[39;00m _backends:\n\u001b[0;32m   1884\u001b[0m     \u001b[38;5;28;01mreturn\u001b[39;00m _backends[backend_str]\n\u001b[1;32m-> 1886\u001b[0m module \u001b[38;5;241m=\u001b[39m \u001b[43m_load_backend\u001b[49m\u001b[43m(\u001b[49m\u001b[43mbackend_str\u001b[49m\u001b[43m)\u001b[49m\n\u001b[0;32m   1887\u001b[0m _backends[backend_str] \u001b[38;5;241m=\u001b[39m module\n\u001b[0;32m   1888\u001b[0m \u001b[38;5;28;01mreturn\u001b[39;00m module\n",
      "File \u001b[1;32m~\\AppData\\Local\\Programs\\Python\\Python311\\Lib\\site-packages\\pandas\\plotting\\_core.py:1817\u001b[0m, in \u001b[0;36m_load_backend\u001b[1;34m(backend)\u001b[0m\n\u001b[0;32m   1815\u001b[0m         module \u001b[38;5;241m=\u001b[39m importlib\u001b[38;5;241m.\u001b[39mimport_module(\u001b[38;5;124m\"\u001b[39m\u001b[38;5;124mpandas.plotting._matplotlib\u001b[39m\u001b[38;5;124m\"\u001b[39m)\n\u001b[0;32m   1816\u001b[0m     \u001b[38;5;28;01mexcept\u001b[39;00m \u001b[38;5;167;01mImportError\u001b[39;00m:\n\u001b[1;32m-> 1817\u001b[0m         \u001b[38;5;28;01mraise\u001b[39;00m \u001b[38;5;167;01mImportError\u001b[39;00m(\n\u001b[0;32m   1818\u001b[0m             \u001b[38;5;124m\"\u001b[39m\u001b[38;5;124mmatplotlib is required for plotting when the \u001b[39m\u001b[38;5;124m\"\u001b[39m\n\u001b[0;32m   1819\u001b[0m             \u001b[38;5;124m'\u001b[39m\u001b[38;5;124mdefault backend \u001b[39m\u001b[38;5;124m\"\u001b[39m\u001b[38;5;124mmatplotlib\u001b[39m\u001b[38;5;124m\"\u001b[39m\u001b[38;5;124m is selected.\u001b[39m\u001b[38;5;124m'\u001b[39m\n\u001b[0;32m   1820\u001b[0m         ) \u001b[38;5;28;01mfrom\u001b[39;00m \u001b[38;5;28mNone\u001b[39m\n\u001b[0;32m   1821\u001b[0m     \u001b[38;5;28;01mreturn\u001b[39;00m module\n\u001b[0;32m   1823\u001b[0m found_backend \u001b[38;5;241m=\u001b[39m \u001b[38;5;28;01mFalse\u001b[39;00m\n",
      "\u001b[1;31mImportError\u001b[0m: matplotlib is required for plotting when the default backend \"matplotlib\" is selected."
     ]
    }
   ],
   "source": [
    "btc['ClosePrice'].plot(figsize=(15, 7))"
   ]
  },
  {
   "cell_type": "code",
   "execution_count": 27,
   "id": "c188523a-08fe-4f51-8a8e-a98a484148b5",
   "metadata": {
    "tags": []
   },
   "outputs": [
    {
     "data": {
      "text/html": [
       "<div>\n",
       "<style scoped>\n",
       "    .dataframe tbody tr th:only-of-type {\n",
       "        vertical-align: middle;\n",
       "    }\n",
       "\n",
       "    .dataframe tbody tr th {\n",
       "        vertical-align: top;\n",
       "    }\n",
       "\n",
       "    .dataframe thead th {\n",
       "        text-align: right;\n",
       "    }\n",
       "</style>\n",
       "<table border=\"1\" class=\"dataframe\">\n",
       "  <thead>\n",
       "    <tr style=\"text-align: right;\">\n",
       "      <th></th>\n",
       "      <th>OpenPrice</th>\n",
       "      <th>HighPrice</th>\n",
       "      <th>LowPrice</th>\n",
       "      <th>ClosePrice</th>\n",
       "      <th>Volume</th>\n",
       "      <th>NA</th>\n",
       "    </tr>\n",
       "    <tr>\n",
       "      <th>CloseTime</th>\n",
       "      <th></th>\n",
       "      <th></th>\n",
       "      <th></th>\n",
       "      <th></th>\n",
       "      <th></th>\n",
       "      <th></th>\n",
       "    </tr>\n",
       "  </thead>\n",
       "  <tbody>\n",
       "    <tr>\n",
       "      <th>2023-02-11 13:00:00</th>\n",
       "      <td>1520.3</td>\n",
       "      <td>1524.9</td>\n",
       "      <td>1515.6</td>\n",
       "      <td>1520.0</td>\n",
       "      <td>87.160588</td>\n",
       "      <td>132531.827355</td>\n",
       "    </tr>\n",
       "    <tr>\n",
       "      <th>2023-02-11 14:00:00</th>\n",
       "      <td>1520.8</td>\n",
       "      <td>1524.0</td>\n",
       "      <td>1518.4</td>\n",
       "      <td>1523.3</td>\n",
       "      <td>72.599572</td>\n",
       "      <td>110513.994955</td>\n",
       "    </tr>\n",
       "    <tr>\n",
       "      <th>2023-02-11 15:00:00</th>\n",
       "      <td>1523.5</td>\n",
       "      <td>1526.8</td>\n",
       "      <td>1520.0</td>\n",
       "      <td>1525.7</td>\n",
       "      <td>43.927036</td>\n",
       "      <td>66905.744937</td>\n",
       "    </tr>\n",
       "    <tr>\n",
       "      <th>2023-02-11 16:00:00</th>\n",
       "      <td>1526.9</td>\n",
       "      <td>1526.9</td>\n",
       "      <td>1521.2</td>\n",
       "      <td>1523.6</td>\n",
       "      <td>30.336158</td>\n",
       "      <td>46220.381848</td>\n",
       "    </tr>\n",
       "    <tr>\n",
       "      <th>2023-02-11 17:00:00</th>\n",
       "      <td>1523.4</td>\n",
       "      <td>1523.4</td>\n",
       "      <td>1517.1</td>\n",
       "      <td>1518.3</td>\n",
       "      <td>37.071849</td>\n",
       "      <td>56357.516201</td>\n",
       "    </tr>\n",
       "  </tbody>\n",
       "</table>\n",
       "</div>"
      ],
      "text/plain": [
       "                     OpenPrice  HighPrice  LowPrice  ClosePrice     Volume  \\\n",
       "CloseTime                                                                    \n",
       "2023-02-11 13:00:00     1520.3     1524.9    1515.6      1520.0  87.160588   \n",
       "2023-02-11 14:00:00     1520.8     1524.0    1518.4      1523.3  72.599572   \n",
       "2023-02-11 15:00:00     1523.5     1526.8    1520.0      1525.7  43.927036   \n",
       "2023-02-11 16:00:00     1526.9     1526.9    1521.2      1523.6  30.336158   \n",
       "2023-02-11 17:00:00     1523.4     1523.4    1517.1      1518.3  37.071849   \n",
       "\n",
       "                                NA  \n",
       "CloseTime                           \n",
       "2023-02-11 13:00:00  132531.827355  \n",
       "2023-02-11 14:00:00  110513.994955  \n",
       "2023-02-11 15:00:00   66905.744937  \n",
       "2023-02-11 16:00:00   46220.381848  \n",
       "2023-02-11 17:00:00   56357.516201  "
      ]
     },
     "execution_count": 27,
     "metadata": {},
     "output_type": "execute_result"
    }
   ],
   "source": [
    "eth.head()"
   ]
  },
  {
   "cell_type": "code",
   "execution_count": 28,
   "id": "74fc1553-39d5-45ee-8950-4a13434d9941",
   "metadata": {
    "tags": []
   },
   "outputs": [
    {
     "ename": "ImportError",
     "evalue": "matplotlib is required for plotting when the default backend \"matplotlib\" is selected.",
     "output_type": "error",
     "traceback": [
      "\u001b[1;31m---------------------------------------------------------------------------\u001b[0m",
      "\u001b[1;31mImportError\u001b[0m                               Traceback (most recent call last)",
      "Cell \u001b[1;32mIn[28], line 1\u001b[0m\n\u001b[1;32m----> 1\u001b[0m \u001b[43meth\u001b[49m\u001b[43m[\u001b[49m\u001b[38;5;124;43m'\u001b[39;49m\u001b[38;5;124;43mClosePrice\u001b[39;49m\u001b[38;5;124;43m'\u001b[39;49m\u001b[43m]\u001b[49m\u001b[38;5;241;43m.\u001b[39;49m\u001b[43mplot\u001b[49m\u001b[43m(\u001b[49m\u001b[43mfigsize\u001b[49m\u001b[38;5;241;43m=\u001b[39;49m\u001b[43m(\u001b[49m\u001b[38;5;241;43m15\u001b[39;49m\u001b[43m,\u001b[49m\u001b[43m \u001b[49m\u001b[38;5;241;43m7\u001b[39;49m\u001b[43m)\u001b[49m\u001b[43m)\u001b[49m\n",
      "File \u001b[1;32m~\\AppData\\Local\\Programs\\Python\\Python311\\Lib\\site-packages\\pandas\\plotting\\_core.py:920\u001b[0m, in \u001b[0;36mPlotAccessor.__call__\u001b[1;34m(self, *args, **kwargs)\u001b[0m\n\u001b[0;32m    919\u001b[0m \u001b[38;5;28;01mdef\u001b[39;00m \u001b[38;5;21m__call__\u001b[39m(\u001b[38;5;28mself\u001b[39m, \u001b[38;5;241m*\u001b[39margs, \u001b[38;5;241m*\u001b[39m\u001b[38;5;241m*\u001b[39mkwargs):\n\u001b[1;32m--> 920\u001b[0m     plot_backend \u001b[38;5;241m=\u001b[39m \u001b[43m_get_plot_backend\u001b[49m\u001b[43m(\u001b[49m\u001b[43mkwargs\u001b[49m\u001b[38;5;241;43m.\u001b[39;49m\u001b[43mpop\u001b[49m\u001b[43m(\u001b[49m\u001b[38;5;124;43m\"\u001b[39;49m\u001b[38;5;124;43mbackend\u001b[39;49m\u001b[38;5;124;43m\"\u001b[39;49m\u001b[43m,\u001b[49m\u001b[43m \u001b[49m\u001b[38;5;28;43;01mNone\u001b[39;49;00m\u001b[43m)\u001b[49m\u001b[43m)\u001b[49m\n\u001b[0;32m    922\u001b[0m     x, y, kind, kwargs \u001b[38;5;241m=\u001b[39m \u001b[38;5;28mself\u001b[39m\u001b[38;5;241m.\u001b[39m_get_call_args(\n\u001b[0;32m    923\u001b[0m         plot_backend\u001b[38;5;241m.\u001b[39m\u001b[38;5;18m__name__\u001b[39m, \u001b[38;5;28mself\u001b[39m\u001b[38;5;241m.\u001b[39m_parent, args, kwargs\n\u001b[0;32m    924\u001b[0m     )\n\u001b[0;32m    926\u001b[0m     kind \u001b[38;5;241m=\u001b[39m \u001b[38;5;28mself\u001b[39m\u001b[38;5;241m.\u001b[39m_kind_aliases\u001b[38;5;241m.\u001b[39mget(kind, kind)\n",
      "File \u001b[1;32m~\\AppData\\Local\\Programs\\Python\\Python311\\Lib\\site-packages\\pandas\\plotting\\_core.py:1886\u001b[0m, in \u001b[0;36m_get_plot_backend\u001b[1;34m(backend)\u001b[0m\n\u001b[0;32m   1883\u001b[0m \u001b[38;5;28;01mif\u001b[39;00m backend_str \u001b[38;5;129;01min\u001b[39;00m _backends:\n\u001b[0;32m   1884\u001b[0m     \u001b[38;5;28;01mreturn\u001b[39;00m _backends[backend_str]\n\u001b[1;32m-> 1886\u001b[0m module \u001b[38;5;241m=\u001b[39m \u001b[43m_load_backend\u001b[49m\u001b[43m(\u001b[49m\u001b[43mbackend_str\u001b[49m\u001b[43m)\u001b[49m\n\u001b[0;32m   1887\u001b[0m _backends[backend_str] \u001b[38;5;241m=\u001b[39m module\n\u001b[0;32m   1888\u001b[0m \u001b[38;5;28;01mreturn\u001b[39;00m module\n",
      "File \u001b[1;32m~\\AppData\\Local\\Programs\\Python\\Python311\\Lib\\site-packages\\pandas\\plotting\\_core.py:1817\u001b[0m, in \u001b[0;36m_load_backend\u001b[1;34m(backend)\u001b[0m\n\u001b[0;32m   1815\u001b[0m         module \u001b[38;5;241m=\u001b[39m importlib\u001b[38;5;241m.\u001b[39mimport_module(\u001b[38;5;124m\"\u001b[39m\u001b[38;5;124mpandas.plotting._matplotlib\u001b[39m\u001b[38;5;124m\"\u001b[39m)\n\u001b[0;32m   1816\u001b[0m     \u001b[38;5;28;01mexcept\u001b[39;00m \u001b[38;5;167;01mImportError\u001b[39;00m:\n\u001b[1;32m-> 1817\u001b[0m         \u001b[38;5;28;01mraise\u001b[39;00m \u001b[38;5;167;01mImportError\u001b[39;00m(\n\u001b[0;32m   1818\u001b[0m             \u001b[38;5;124m\"\u001b[39m\u001b[38;5;124mmatplotlib is required for plotting when the \u001b[39m\u001b[38;5;124m\"\u001b[39m\n\u001b[0;32m   1819\u001b[0m             \u001b[38;5;124m'\u001b[39m\u001b[38;5;124mdefault backend \u001b[39m\u001b[38;5;124m\"\u001b[39m\u001b[38;5;124mmatplotlib\u001b[39m\u001b[38;5;124m\"\u001b[39m\u001b[38;5;124m is selected.\u001b[39m\u001b[38;5;124m'\u001b[39m\n\u001b[0;32m   1820\u001b[0m         ) \u001b[38;5;28;01mfrom\u001b[39;00m \u001b[38;5;28mNone\u001b[39m\n\u001b[0;32m   1821\u001b[0m     \u001b[38;5;28;01mreturn\u001b[39;00m module\n\u001b[0;32m   1823\u001b[0m found_backend \u001b[38;5;241m=\u001b[39m \u001b[38;5;28;01mFalse\u001b[39;00m\n",
      "\u001b[1;31mImportError\u001b[0m: matplotlib is required for plotting when the default backend \"matplotlib\" is selected."
     ]
    }
   ],
   "source": [
    "eth['ClosePrice'].plot(figsize=(15, 7))"
   ]
  },
  {
   "cell_type": "code",
   "execution_count": null,
   "id": "bc2edc8b-f4cd-4c99-9345-fc45f6859c25",
   "metadata": {},
   "outputs": [],
   "source": []
  }
 ],
 "metadata": {
  "kernelspec": {
   "display_name": "Python 3 (ipykernel)",
   "language": "python",
   "name": "python3"
  },
  "language_info": {
   "codemirror_mode": {
    "name": "ipython",
    "version": 3
   },
   "file_extension": ".py",
   "mimetype": "text/x-python",
   "name": "python",
   "nbconvert_exporter": "python",
   "pygments_lexer": "ipython3",
   "version": "3.11.1"
  }
 },
 "nbformat": 4,
 "nbformat_minor": 5
}
